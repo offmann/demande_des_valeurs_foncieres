{
  "nbformat": 4,
  "nbformat_minor": 0,
  "metadata": {
    "colab": {
      "name": "DVF",
      "version": "0.3.2",
      "provenance": [],
      "collapsed_sections": [],
      "include_colab_link": true
    },
    "kernelspec": {
      "name": "python3",
      "display_name": "Python 3"
    }
  },
  "cells": [
    {
      "cell_type": "markdown",
      "metadata": {
        "id": "view-in-github",
        "colab_type": "text"
      },
      "source": [
        "<a href=\"https://colab.research.google.com/github/offmann/demande_des_valeurs_foncieres/blob/master/DVF.ipynb\" target=\"_parent\"><img src=\"https://colab.research.google.com/assets/colab-badge.svg\" alt=\"Open In Colab\"/></a>"
      ]
    },
    {
      "cell_type": "markdown",
      "metadata": {
        "id": "eL99D1Lib6nf",
        "colab_type": "text"
      },
      "source": [
        ">**Récupération des données de 2014 à 2018**"
      ]
    },
    {
      "cell_type": "code",
      "metadata": {
        "id": "AuKvAvAXepFK",
        "colab_type": "code",
        "colab": {}
      },
      "source": [
        "# Imports \n",
        "\n",
        "import pandas as pd\n",
        "from google.colab import files"
      ],
      "execution_count": 0,
      "outputs": []
    },
    {
      "cell_type": "code",
      "metadata": {
        "id": "-W7UAGFgb03v",
        "colab_type": "code",
        "outputId": "327272e9-7770-428b-b573-2a95e4c4da73",
        "colab": {
          "base_uri": "https://localhost:8080/",
          "height": 1000
        }
      },
      "source": [
        "%%shell\n",
        "\n",
        "mkdir -p data\n",
        "cd data\n",
        "# Téléchargement des fichiers DVF\n",
        "for ANNEE in $(seq 2014 2018)\n",
        "do\n",
        "  wget -nc http://data.cquest.org/dgfip_dvf/valeursfoncieres-$ANNEE.txt.gz\n",
        "  wget -nc https://cadastre.data.gouv.fr/data/hackathon-dgfip-dvf/contrib/etalab-csv/$ANNEE/full.csv.gz -O $ANNEE-full.csv.gz\n",
        "done"
      ],
      "execution_count": 0,
      "outputs": [
        {
          "output_type": "stream",
          "text": [
            "--2019-07-01 08:13:20--  http://data.cquest.org/dgfip_dvf/valeursfoncieres-2014.txt.gz\n",
            "Resolving data.cquest.org (data.cquest.org)... 163.172.103.163\n",
            "Connecting to data.cquest.org (data.cquest.org)|163.172.103.163|:80... connected.\n",
            "HTTP request sent, awaiting response... 200 OK\n",
            "Length: 49290306 (47M) [application/octet-stream]\n",
            "Saving to: ‘valeursfoncieres-2014.txt.gz’\n",
            "\n",
            "valeursfoncieres-20 100%[===================>]  47.01M  14.0MB/s    in 3.4s    \n",
            "\n",
            "2019-07-01 08:13:24 (14.0 MB/s) - ‘valeursfoncieres-2014.txt.gz’ saved [49290306/49290306]\n",
            "\n",
            "--2019-07-01 08:13:24--  https://cadastre.data.gouv.fr/data/hackathon-dgfip-dvf/contrib/etalab-csv/2014/full.csv.gz\n",
            "Resolving cadastre.data.gouv.fr (cadastre.data.gouv.fr)... 54.36.212.78\n",
            "Connecting to cadastre.data.gouv.fr (cadastre.data.gouv.fr)|54.36.212.78|:443... connected.\n",
            "HTTP request sent, awaiting response... 200 OK\n",
            "Length: 71732630 (68M) [application/octet-stream]\n",
            "Saving to: ‘2014-full.csv.gz’\n",
            "\n",
            "2014-full.csv.gz    100%[===================>]  68.41M  19.2MB/s    in 4.1s    \n",
            "\n",
            "2019-07-01 08:13:30 (16.7 MB/s) - ‘2014-full.csv.gz’ saved [71732630/71732630]\n",
            "\n",
            "--2019-07-01 08:13:30--  http://data.cquest.org/dgfip_dvf/valeursfoncieres-2015.txt.gz\n",
            "Resolving data.cquest.org (data.cquest.org)... 163.172.103.163\n",
            "Connecting to data.cquest.org (data.cquest.org)|163.172.103.163|:80... connected.\n",
            "HTTP request sent, awaiting response... 200 OK\n",
            "Length: 53550056 (51M) [application/octet-stream]\n",
            "Saving to: ‘valeursfoncieres-2015.txt.gz’\n",
            "\n",
            "valeursfoncieres-20 100%[===================>]  51.07M  14.5MB/s    in 3.5s    \n",
            "\n",
            "2019-07-01 08:13:33 (14.5 MB/s) - ‘valeursfoncieres-2015.txt.gz’ saved [53550056/53550056]\n",
            "\n",
            "--2019-07-01 08:13:34--  https://cadastre.data.gouv.fr/data/hackathon-dgfip-dvf/contrib/etalab-csv/2015/full.csv.gz\n",
            "Resolving cadastre.data.gouv.fr (cadastre.data.gouv.fr)... 54.36.212.78\n",
            "Connecting to cadastre.data.gouv.fr (cadastre.data.gouv.fr)|54.36.212.78|:443... connected.\n",
            "HTTP request sent, awaiting response... 200 OK\n",
            "Length: 77832978 (74M) [application/octet-stream]\n",
            "Saving to: ‘2015-full.csv.gz’\n",
            "\n",
            "2015-full.csv.gz    100%[===================>]  74.23M  20.8MB/s    in 4.4s    \n",
            "\n",
            "2019-07-01 08:13:39 (16.9 MB/s) - ‘2015-full.csv.gz’ saved [77832978/77832978]\n",
            "\n",
            "--2019-07-01 08:13:39--  http://data.cquest.org/dgfip_dvf/valeursfoncieres-2016.txt.gz\n",
            "Resolving data.cquest.org (data.cquest.org)... 163.172.103.163\n",
            "Connecting to data.cquest.org (data.cquest.org)|163.172.103.163|:80... connected.\n",
            "HTTP request sent, awaiting response... 200 OK\n",
            "Length: 57367941 (55M) [application/octet-stream]\n",
            "Saving to: ‘valeursfoncieres-2016.txt.gz’\n",
            "\n",
            "valeursfoncieres-20 100%[===================>]  54.71M  15.4MB/s    in 3.6s    \n",
            "\n",
            "2019-07-01 08:13:42 (15.4 MB/s) - ‘valeursfoncieres-2016.txt.gz’ saved [57367941/57367941]\n",
            "\n",
            "--2019-07-01 08:13:42--  https://cadastre.data.gouv.fr/data/hackathon-dgfip-dvf/contrib/etalab-csv/2016/full.csv.gz\n",
            "Resolving cadastre.data.gouv.fr (cadastre.data.gouv.fr)... 54.36.212.78\n",
            "Connecting to cadastre.data.gouv.fr (cadastre.data.gouv.fr)|54.36.212.78|:443... connected.\n",
            "HTTP request sent, awaiting response... 200 OK\n",
            "Length: 83195688 (79M) [application/octet-stream]\n",
            "Saving to: ‘2016-full.csv.gz’\n",
            "\n",
            "2016-full.csv.gz    100%[===================>]  79.34M  16.5MB/s    in 5.3s    \n",
            "\n",
            "2019-07-01 08:13:49 (14.9 MB/s) - ‘2016-full.csv.gz’ saved [83195688/83195688]\n",
            "\n",
            "--2019-07-01 08:13:49--  http://data.cquest.org/dgfip_dvf/valeursfoncieres-2017.txt.gz\n",
            "Resolving data.cquest.org (data.cquest.org)... 163.172.103.163\n",
            "Connecting to data.cquest.org (data.cquest.org)|163.172.103.163|:80... connected.\n",
            "HTTP request sent, awaiting response... 200 OK\n",
            "Length: 65061704 (62M) [application/octet-stream]\n",
            "Saving to: ‘valeursfoncieres-2017.txt.gz’\n",
            "\n",
            "valeursfoncieres-20 100%[===================>]  62.05M  16.2MB/s    in 3.8s    \n",
            "\n",
            "2019-07-01 08:13:53 (16.2 MB/s) - ‘valeursfoncieres-2017.txt.gz’ saved [65061704/65061704]\n",
            "\n",
            "--2019-07-01 08:13:53--  https://cadastre.data.gouv.fr/data/hackathon-dgfip-dvf/contrib/etalab-csv/2017/full.csv.gz\n",
            "Resolving cadastre.data.gouv.fr (cadastre.data.gouv.fr)... 54.36.212.78\n",
            "Connecting to cadastre.data.gouv.fr (cadastre.data.gouv.fr)|54.36.212.78|:443... connected.\n",
            "HTTP request sent, awaiting response... 200 OK\n",
            "Length: 94128331 (90M) [application/octet-stream]\n",
            "Saving to: ‘2017-full.csv.gz’\n",
            "\n",
            "2017-full.csv.gz    100%[===================>]  89.77M  20.8MB/s    in 5.1s    \n",
            "\n",
            "2019-07-01 08:13:58 (17.6 MB/s) - ‘2017-full.csv.gz’ saved [94128331/94128331]\n",
            "\n",
            "--2019-07-01 08:13:58--  http://data.cquest.org/dgfip_dvf/valeursfoncieres-2018.txt.gz\n",
            "Resolving data.cquest.org (data.cquest.org)... 163.172.103.163\n",
            "Connecting to data.cquest.org (data.cquest.org)|163.172.103.163|:80... connected.\n",
            "HTTP request sent, awaiting response... 200 OK\n",
            "Length: 43194339 (41M) [application/octet-stream]\n",
            "Saving to: ‘valeursfoncieres-2018.txt.gz’\n",
            "\n",
            "valeursfoncieres-20 100%[===================>]  41.19M  14.6MB/s    in 2.8s    \n",
            "\n",
            "2019-07-01 08:14:02 (14.6 MB/s) - ‘valeursfoncieres-2018.txt.gz’ saved [43194339/43194339]\n",
            "\n",
            "--2019-07-01 08:14:02--  https://cadastre.data.gouv.fr/data/hackathon-dgfip-dvf/contrib/etalab-csv/2018/full.csv.gz\n",
            "Resolving cadastre.data.gouv.fr (cadastre.data.gouv.fr)... 54.36.212.78\n",
            "Connecting to cadastre.data.gouv.fr (cadastre.data.gouv.fr)|54.36.212.78|:443... connected.\n",
            "HTTP request sent, awaiting response... 200 OK\n",
            "Length: 66464368 (63M) [application/octet-stream]\n",
            "Saving to: ‘2018-full.csv.gz’\n",
            "\n",
            "2018-full.csv.gz    100%[===================>]  63.38M  17.7MB/s    in 3.8s    \n",
            "\n",
            "2019-07-01 08:14:06 (16.5 MB/s) - ‘2018-full.csv.gz’ saved [66464368/66464368]\n",
            "\n"
          ],
          "name": "stdout"
        },
        {
          "output_type": "execute_result",
          "data": {
            "text/plain": [
              ""
            ]
          },
          "metadata": {
            "tags": []
          },
          "execution_count": 2
        }
      ]
    },
    {
      "cell_type": "code",
      "metadata": {
        "id": "ttminHZgnE-G",
        "colab_type": "code",
        "outputId": "1d6e1ec7-2c19-4ce3-92af-2f0ee723a5f3",
        "colab": {
          "base_uri": "https://localhost:8080/",
          "height": 85
        }
      },
      "source": [
        "! ls data/"
      ],
      "execution_count": 0,
      "outputs": [
        {
          "output_type": "stream",
          "text": [
            "2014-full.csv.gz  2018-full.csv.gz\t\tvaleursfoncieres-2017.txt.gz\n",
            "2015-full.csv.gz  valeursfoncieres-2014.txt.gz\tvaleursfoncieres-2018.txt.gz\n",
            "2016-full.csv.gz  valeursfoncieres-2015.txt.gz\n",
            "2017-full.csv.gz  valeursfoncieres-2016.txt.gz\n"
          ],
          "name": "stdout"
        }
      ]
    },
    {
      "cell_type": "code",
      "metadata": {
        "id": "xrh5_WMuctIw",
        "colab_type": "code",
        "outputId": "00e9b51b-7072-49e6-fea1-7d8f6d37f9e4",
        "colab": {
          "base_uri": "https://localhost:8080/",
          "height": 17
        }
      },
      "source": [
        "%%shell\n",
        "\n",
        "for ANNEE in $(seq 2014 2018)\n",
        "\n",
        "do\n",
        "  gunzip data/valeursfoncieres-$ANNEE.txt.gz\n",
        "done  "
      ],
      "execution_count": 0,
      "outputs": [
        {
          "output_type": "execute_result",
          "data": {
            "text/plain": [
              ""
            ]
          },
          "metadata": {
            "tags": []
          },
          "execution_count": 7
        }
      ]
    },
    {
      "cell_type": "code",
      "metadata": {
        "id": "admQcmNKnUPW",
        "colab_type": "code",
        "outputId": "41fdf828-fb3c-421e-ed93-29ca0fd51739",
        "colab": {
          "base_uri": "https://localhost:8080/",
          "height": 85
        }
      },
      "source": [
        "! ls data/"
      ],
      "execution_count": 0,
      "outputs": [
        {
          "output_type": "stream",
          "text": [
            "2014-full.csv.gz  2018-full.csv.gz\t     valeursfoncieres-2017.txt\n",
            "2015-full.csv.gz  valeursfoncieres-2014.txt  valeursfoncieres-2018.txt\n",
            "2016-full.csv.gz  valeursfoncieres-2015.txt\n",
            "2017-full.csv.gz  valeursfoncieres-2016.txt\n"
          ],
          "name": "stdout"
        }
      ]
    },
    {
      "cell_type": "code",
      "metadata": {
        "id": "NRzRZiDmebVP",
        "colab_type": "code",
        "colab": {}
      },
      "source": [
        "def dvf (year):\n",
        "  \n",
        "  # Read data\n",
        "  data = pd.read_csv('data/valeursfoncieres-' +str(year)+ '.txt', sep = '|', header = None, low_memory=False)\n",
        "  data.columns = data.iloc[0]\n",
        "  data = data.reindex(data.index.drop(0))\n",
        "  \n",
        "  \n",
        "  # Remove rows containing NAs values among the subset of columns \n",
        "  data = data.dropna(subset=['Valeur fonciere','No voie','Type de voie','Voie'])\n",
        "\n",
        "  \n",
        "  # Filter on departements ( 5 Départements of North of France)\n",
        "  departement_condition = (data['Code departement']=='59') | (data['Code departement']=='80') | (data['Code departement']=='02') | (data['Code departement']=='08') | (data['Code departement']=='62')\n",
        "  data = data[departement_condition]\n",
        "\n",
        "  \n",
        "  # Remove unnecessary columns \n",
        "  cols = [0,1,2,3,4,5,6,22,23,24,25,26,27,28,29,30,31,32,33,35,37,40,41]\n",
        "  data.drop(data.columns[cols],axis=1,inplace=True)\n",
        "\n",
        "\n",
        "  # Format No Voie column \n",
        "  data['No voie'] = data['No voie'].astype(str)\n",
        "  data['No voie'] = data['No voie'].str.split('.').str[0]\n",
        "  data.head()\n",
        "\n",
        "\n",
        "  # Create Adresse variable\n",
        "  col_to_concat = [3,4,6]\n",
        "  data['adresse']= data['No voie'] + ' ' + data['Type de voie'] + ' ' + data['Voie'] + ' ' + data['Code postal'] + ' ' + data['Commune']\n",
        "\n",
        "\n",
        "  # Export CSV file\n",
        "  data.to_csv('data_fonciere_'+str(year)+'.csv', encoding='utf-8')\n",
        "  files.download('data_fonciere_'+str(year)+'.csv')\n",
        "  \n",
        "  \n",
        "  # return head of data frame\n",
        "  \n",
        "  return data.sort_values(by=['Date mutation'], ascending=False).head(), data.shape, data"
      ],
      "execution_count": 0,
      "outputs": []
    },
    {
      "cell_type": "code",
      "metadata": {
        "id": "tLcec11rnZlk",
        "colab_type": "code",
        "colab": {}
      },
      "source": [
        "# Utilisation pour l'année 2018\n",
        "head_2018, shape_2018, dataset_2018 = dvf(2018)"
      ],
      "execution_count": 0,
      "outputs": []
    }
  ]
}